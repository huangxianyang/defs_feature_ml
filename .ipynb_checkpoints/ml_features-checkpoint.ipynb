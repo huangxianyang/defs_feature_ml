{
 "cells": [
  {
   "cell_type": "code",
   "execution_count": 3,
   "metadata": {},
   "outputs": [],
   "source": [
    "import pandas as pd\n",
    "import numpy as np\n",
    "import joblib\n",
    "import warnings\n",
    "warnings.filterwarnings('ignore')"
   ]
  },
  {
   "cell_type": "code",
   "execution_count": 2,
   "metadata": {},
   "outputs": [],
   "source": [
    "rawFile = '/Users/huangsir/Desktop/GEEX/模型/geex_credit_score/V01/train/data/raw/批量测试结果20210222/' # 原始数据\n",
    "lgbFile = '/Users/huangsir/Desktop/GEEX/模型/ModelAPI/app/app/geex_credit_score/static/lgbm/' # lgb模型\n",
    "lrFile = '/Users/huangsir/Desktop/GEEX/模型/ModelAPI/app/app/geex_credit_score/static/logit/' # lr模型"
   ]
  },
  {
   "cell_type": "code",
   "execution_count": 4,
   "metadata": {},
   "outputs": [
    {
     "name": "stdout",
     "output_type": "stream",
     "text": [
      "数据大小:(22997, 1425)\n"
     ]
    },
    {
     "data": {
      "text/html": [
       "<div>\n",
       "<style scoped>\n",
       "    .dataframe tbody tr th:only-of-type {\n",
       "        vertical-align: middle;\n",
       "    }\n",
       "\n",
       "    .dataframe tbody tr th {\n",
       "        vertical-align: top;\n",
       "    }\n",
       "\n",
       "    .dataframe thead th {\n",
       "        text-align: right;\n",
       "    }\n",
       "</style>\n",
       "<table border=\"1\" class=\"dataframe\">\n",
       "  <thead>\n",
       "    <tr style=\"text-align: right;\">\n",
       "      <th></th>\n",
       "      <th>cus_num</th>\n",
       "      <th>user_date</th>\n",
       "      <th>id</th>\n",
       "      <th>cell</th>\n",
       "      <th>name</th>\n",
       "      <th>swift_number</th>\n",
       "      <th>cus_username</th>\n",
       "      <th>code</th>\n",
       "      <th>flag_score</th>\n",
       "      <th>flag_inforelation</th>\n",
       "      <th>...</th>\n",
       "      <th>alu_y1_id_orgnum</th>\n",
       "      <th>alu_y1_cell_allnum</th>\n",
       "      <th>alu_y1_cell_orgnum</th>\n",
       "      <th>alu_fst_id_inteday</th>\n",
       "      <th>alu_lst_id_inteday</th>\n",
       "      <th>alu_fst_cell_inteday</th>\n",
       "      <th>alu_lst_cell_inteday</th>\n",
       "      <th>flag_fraudrelation_g</th>\n",
       "      <th>frg_list_level</th>\n",
       "      <th>frg_group_num</th>\n",
       "    </tr>\n",
       "  </thead>\n",
       "  <tbody>\n",
       "    <tr>\n",
       "      <th>0</th>\n",
       "      <td>cus_num</td>\n",
       "      <td>user_date</td>\n",
       "      <td>id</td>\n",
       "      <td>cell</td>\n",
       "      <td>name</td>\n",
       "      <td>流水号</td>\n",
       "      <td>客户账号</td>\n",
       "      <td>返回码</td>\n",
       "      <td>flag_score</td>\n",
       "      <td>产品输出标识</td>\n",
       "      <td>...</td>\n",
       "      <td>1年以前，身份证号查询的申请机构数</td>\n",
       "      <td>1年以前，手机号查询的申请次数</td>\n",
       "      <td>1年以前，手机号查询的申请机构数</td>\n",
       "      <td>身份证号查询，最近申请距今天数</td>\n",
       "      <td>身份证号查询，最早申请距今天数</td>\n",
       "      <td>手机号查询，最近申请距今天数</td>\n",
       "      <td>手机号查询，最早申请距今天数</td>\n",
       "      <td>团伙欺诈排查通用版输出标识</td>\n",
       "      <td>查询人欺诈团伙等级</td>\n",
       "      <td>查询人欺诈团伙群组规模</td>\n",
       "    </tr>\n",
       "    <tr>\n",
       "      <th>1</th>\n",
       "      <td>2</td>\n",
       "      <td>2020/3/11</td>\n",
       "      <td>4370ba14897480c70b37a239dc14db52</td>\n",
       "      <td>a7da377985203f626a0fd050aa304203</td>\n",
       "      <td>a###############################</td>\n",
       "      <td>4002736_20210104152127_87775E0BA</td>\n",
       "      <td>demo13315</td>\n",
       "      <td>00</td>\n",
       "      <td>1</td>\n",
       "      <td>1</td>\n",
       "      <td>...</td>\n",
       "      <td>NaN</td>\n",
       "      <td>NaN</td>\n",
       "      <td>NaN</td>\n",
       "      <td>NaN</td>\n",
       "      <td>NaN</td>\n",
       "      <td>NaN</td>\n",
       "      <td>NaN</td>\n",
       "      <td>1</td>\n",
       "      <td>7</td>\n",
       "      <td>a</td>\n",
       "    </tr>\n",
       "  </tbody>\n",
       "</table>\n",
       "<p>2 rows × 1425 columns</p>\n",
       "</div>"
      ],
      "text/plain": [
       "   cus_num  user_date                                id  \\\n",
       "0  cus_num  user_date                                id   \n",
       "1        2  2020/3/11  4370ba14897480c70b37a239dc14db52   \n",
       "\n",
       "                               cell                              name  \\\n",
       "0                              cell                              name   \n",
       "1  a7da377985203f626a0fd050aa304203  a###############################   \n",
       "\n",
       "                       swift_number cus_username code  flag_score  \\\n",
       "0                               流水号         客户账号  返回码  flag_score   \n",
       "1  4002736_20210104152127_87775E0BA    demo13315   00           1   \n",
       "\n",
       "  flag_inforelation  ...   alu_y1_id_orgnum alu_y1_cell_allnum  \\\n",
       "0            产品输出标识  ...  1年以前，身份证号查询的申请机构数    1年以前，手机号查询的申请次数   \n",
       "1                 1  ...                NaN                NaN   \n",
       "\n",
       "  alu_y1_cell_orgnum alu_fst_id_inteday alu_lst_id_inteday  \\\n",
       "0   1年以前，手机号查询的申请机构数    身份证号查询，最近申请距今天数    身份证号查询，最早申请距今天数   \n",
       "1                NaN                NaN                NaN   \n",
       "\n",
       "  alu_fst_cell_inteday alu_lst_cell_inteday flag_fraudrelation_g  \\\n",
       "0       手机号查询，最近申请距今天数       手机号查询，最早申请距今天数        团伙欺诈排查通用版输出标识   \n",
       "1                  NaN                  NaN                    1   \n",
       "\n",
       "  frg_list_level frg_group_num  \n",
       "0      查询人欺诈团伙等级   查询人欺诈团伙群组规模  \n",
       "1              7             a  \n",
       "\n",
       "[2 rows x 1425 columns]"
      ]
     },
     "execution_count": 4,
     "metadata": {},
     "output_type": "execute_result"
    }
   ],
   "source": [
    "br_dt = pd.read_csv(''.join([rawFile,'百融/即科测试_结果.csv']),encoding='utf8',skiprows=0)\n",
    "print(f'数据大小:{br_dt.shape}')\n",
    "br_dt.head(2)"
   ]
  },
  {
   "cell_type": "code",
   "execution_count": null,
   "metadata": {},
   "outputs": [],
   "source": [
    "br_dict = {k:v for v,k in zip(br_dt.columns,br_dt.loc[0])}"
   ]
  }
 ],
 "metadata": {
  "kernelspec": {
   "display_name": "Python 3",
   "language": "python",
   "name": "python3"
  },
  "language_info": {
   "codemirror_mode": {
    "name": "ipython",
    "version": 3
   },
   "file_extension": ".py",
   "mimetype": "text/x-python",
   "name": "python",
   "nbconvert_exporter": "python",
   "pygments_lexer": "ipython3",
   "version": "3.7.4"
  }
 },
 "nbformat": 4,
 "nbformat_minor": 4
}
