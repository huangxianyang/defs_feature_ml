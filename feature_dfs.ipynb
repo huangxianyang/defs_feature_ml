{
 "cells": [
  {
   "cell_type": "code",
   "execution_count": 1,
   "metadata": {},
   "outputs": [
    {
     "name": "stdout",
     "output_type": "stream",
     "text": [
      "ft.__version__:\t 0.23.0\n"
     ]
    }
   ],
   "source": [
    "import pandas as pd\n",
    "import numpy as np\n",
    "import json\n",
    "import warnings\n",
    "warnings.filterwarnings('ignore')\n",
    "import matplotlib.pyplot as plt\n",
    "plt.rcParams['font.size'] = 18 #字体大小\n",
    "plt.rcParams['font.family'] = ['Arial Unicode MS'] #用来正常显示中文标签\n",
    "plt.rcParams['axes.unicode_minus'] = False #用来正常显示负号\n",
    "%matplotlib inline\n",
    "\n",
    "import featuretools as ft\n",
    "print('ft.__version__:\\t',ft.__version__)"
   ]
  },
  {
   "cell_type": "code",
   "execution_count": 2,
   "metadata": {},
   "outputs": [],
   "source": [
    "dt_file =  'train/data/dt/'"
   ]
  },
  {
   "cell_type": "code",
   "execution_count": 3,
   "metadata": {},
   "outputs": [
    {
     "data": {
      "text/html": [
       "<div>\n",
       "<style scoped>\n",
       "    .dataframe tbody tr th:only-of-type {\n",
       "        vertical-align: middle;\n",
       "    }\n",
       "\n",
       "    .dataframe tbody tr th {\n",
       "        vertical-align: top;\n",
       "    }\n",
       "\n",
       "    .dataframe thead th {\n",
       "        text-align: right;\n",
       "    }\n",
       "</style>\n",
       "<table border=\"1\" class=\"dataframe\">\n",
       "  <thead>\n",
       "    <tr style=\"text-align: right;\">\n",
       "      <th></th>\n",
       "      <th>balance_capital</th>\n",
       "      <th>FINANCE_PRODUCT_CODE</th>\n",
       "      <th>name</th>\n",
       "      <th>curr_overdue</th>\n",
       "      <th>id_number</th>\n",
       "      <th>OVERDUE_DAYS</th>\n",
       "      <th>apply_date</th>\n",
       "      <th>max_overdue</th>\n",
       "      <th>LOAN_DATE</th>\n",
       "      <th>target</th>\n",
       "      <th>...</th>\n",
       "      <th>br.按身份证号查询，近12个月最大月申请次数</th>\n",
       "      <th>zzc.D90.身份证号码.贷款类型列表_len</th>\n",
       "      <th>br.按手机号查询，近3个月在非银机构-消费类分期申请机构数</th>\n",
       "      <th>zzc.D720.手机号码.机构类型列表_len</th>\n",
       "      <th>zzc.D90.身份证号码.其他类.申请数</th>\n",
       "      <th>br.ir_allmatch_days</th>\n",
       "      <th>td.zrf.智融分2.0银行分标准版</th>\n",
       "      <th>br.按手机号查询，近12个月申请线下消费分期的机构数</th>\n",
       "      <th>zzc.D540.手机号码.平均换新机构间隔时长</th>\n",
       "      <th>zzc.D540.身份证号码.贷款类型列表_len</th>\n",
       "    </tr>\n",
       "  </thead>\n",
       "  <tbody>\n",
       "    <tr>\n",
       "      <th>14191</th>\n",
       "      <td>624.0</td>\n",
       "      <td>PDL02</td>\n",
       "      <td>d3d7999bfe1333fd55b8ae75893c06ff</td>\n",
       "      <td>0.0</td>\n",
       "      <td>dde21e0b60c727da3cf5205f3d7c29f3</td>\n",
       "      <td>-1</td>\n",
       "      <td>2020-04-02</td>\n",
       "      <td>0.0</td>\n",
       "      <td>02APR2020</td>\n",
       "      <td>0</td>\n",
       "      <td>...</td>\n",
       "      <td>17.0</td>\n",
       "      <td>27</td>\n",
       "      <td>5.0</td>\n",
       "      <td>55</td>\n",
       "      <td>5.0</td>\n",
       "      <td>1.0</td>\n",
       "      <td>490</td>\n",
       "      <td>3.0</td>\n",
       "      <td>55.0</td>\n",
       "      <td>34</td>\n",
       "    </tr>\n",
       "    <tr>\n",
       "      <th>8292</th>\n",
       "      <td>NaN</td>\n",
       "      <td>PDL01hc</td>\n",
       "      <td>5e6eeee2b0ce642e286073ef8d4f8f47</td>\n",
       "      <td>NaN</td>\n",
       "      <td>ae28b50b2d55e657bd5c0f32ce007ecf</td>\n",
       "      <td>0</td>\n",
       "      <td>2020-04-02</td>\n",
       "      <td>NaN</td>\n",
       "      <td>01MAY2020</td>\n",
       "      <td>-999</td>\n",
       "      <td>...</td>\n",
       "      <td>NaN</td>\n",
       "      <td>0</td>\n",
       "      <td>NaN</td>\n",
       "      <td>19</td>\n",
       "      <td>0.0</td>\n",
       "      <td>103.0</td>\n",
       "      <td>704</td>\n",
       "      <td>3.0</td>\n",
       "      <td>-1.0</td>\n",
       "      <td>16</td>\n",
       "    </tr>\n",
       "    <tr>\n",
       "      <th>5212</th>\n",
       "      <td>0.0</td>\n",
       "      <td>PDL02</td>\n",
       "      <td>63040d9b963fa6e776492e40b422584a</td>\n",
       "      <td>0.0</td>\n",
       "      <td>3e4c5b335d6393d1e559d7deffc6cd36</td>\n",
       "      <td>-1</td>\n",
       "      <td>2020-03-08</td>\n",
       "      <td>0.0</td>\n",
       "      <td>08MAR2020</td>\n",
       "      <td>0</td>\n",
       "      <td>...</td>\n",
       "      <td>5.0</td>\n",
       "      <td>11</td>\n",
       "      <td>4.0</td>\n",
       "      <td>11</td>\n",
       "      <td>0.0</td>\n",
       "      <td>1.0</td>\n",
       "      <td>659</td>\n",
       "      <td>1.0</td>\n",
       "      <td>0.0</td>\n",
       "      <td>11</td>\n",
       "    </tr>\n",
       "  </tbody>\n",
       "</table>\n",
       "<p>3 rows × 170 columns</p>\n",
       "</div>"
      ],
      "text/plain": [
       "       balance_capital FINANCE_PRODUCT_CODE                              name  \\\n",
       "14191            624.0                PDL02  d3d7999bfe1333fd55b8ae75893c06ff   \n",
       "8292               NaN              PDL01hc  5e6eeee2b0ce642e286073ef8d4f8f47   \n",
       "5212               0.0                PDL02  63040d9b963fa6e776492e40b422584a   \n",
       "\n",
       "       curr_overdue                         id_number  OVERDUE_DAYS  \\\n",
       "14191           0.0  dde21e0b60c727da3cf5205f3d7c29f3            -1   \n",
       "8292            NaN  ae28b50b2d55e657bd5c0f32ce007ecf             0   \n",
       "5212            0.0  3e4c5b335d6393d1e559d7deffc6cd36            -1   \n",
       "\n",
       "      apply_date  max_overdue  LOAN_DATE  target  ...  \\\n",
       "14191 2020-04-02          0.0  02APR2020       0  ...   \n",
       "8292  2020-04-02          NaN  01MAY2020    -999  ...   \n",
       "5212  2020-03-08          0.0  08MAR2020       0  ...   \n",
       "\n",
       "       br.按身份证号查询，近12个月最大月申请次数 zzc.D90.身份证号码.贷款类型列表_len  \\\n",
       "14191                     17.0                       27   \n",
       "8292                       NaN                        0   \n",
       "5212                       5.0                       11   \n",
       "\n",
       "      br.按手机号查询，近3个月在非银机构-消费类分期申请机构数 zzc.D720.手机号码.机构类型列表_len  \\\n",
       "14191                            5.0                       55   \n",
       "8292                             NaN                       19   \n",
       "5212                             4.0                       11   \n",
       "\n",
       "       zzc.D90.身份证号码.其他类.申请数  br.ir_allmatch_days  td.zrf.智融分2.0银行分标准版  \\\n",
       "14191                    5.0                  1.0                  490   \n",
       "8292                     0.0                103.0                  704   \n",
       "5212                     0.0                  1.0                  659   \n",
       "\n",
       "       br.按手机号查询，近12个月申请线下消费分期的机构数  zzc.D540.手机号码.平均换新机构间隔时长  \\\n",
       "14191                          3.0                      55.0   \n",
       "8292                           3.0                      -1.0   \n",
       "5212                           1.0                       0.0   \n",
       "\n",
       "       zzc.D540.身份证号码.贷款类型列表_len  \n",
       "14191                         34  \n",
       "8292                          16  \n",
       "5212                          11  \n",
       "\n",
       "[3 rows x 170 columns]"
      ]
     },
     "execution_count": 3,
     "metadata": {},
     "output_type": "execute_result"
    }
   ],
   "source": [
    "# 加载数据\n",
    "data = pd.read_excel(dt_file+'data_new.xlsx')\n",
    "data.sample(3)"
   ]
  },
  {
   "cell_type": "code",
   "execution_count": 160,
   "metadata": {},
   "outputs": [
    {
     "name": "stdout",
     "output_type": "stream",
     "text": [
      "153\n",
      "['zzc.D180.身份证号码.贷款类型列表.consumerfinance']\n"
     ]
    }
   ],
   "source": [
    "#------------------------手动删除特征--------------------\n",
    "# 加载特征\n",
    "with open(dt_file+'feature_new.txt','r') as f:\n",
    "    features = f.read().split('\\n')\n",
    "    \n",
    "with open(dt_file+'cat_feature_new.txt','r') as f:\n",
    "    cat_features = f.read().split('\\n')\n",
    "\n",
    "self_drop = ['mob.fraud_stage'\n",
    "            ]\n",
    "\n",
    "features = [i for i in features if i not in self_drop]\n",
    "cat_features = [i for i in cat_features if i not in self_drop]\n",
    "print(len(features))\n",
    "print(cat_features)"
   ]
  },
  {
   "cell_type": "code",
   "execution_count": 163,
   "metadata": {},
   "outputs": [],
   "source": [
    "import copy\n",
    "dt = copy.deepcopy(data)\n",
    "train = dt.sample(1000)"
   ]
  },
  {
   "cell_type": "code",
   "execution_count": 164,
   "metadata": {},
   "outputs": [],
   "source": [
    "# 创建实体集\n",
    "es_train = ft.EntitySet(id='train')\n",
    "es_data = ft.EntitySet(id='predict')\n",
    "\n",
    "# 添加实体\n",
    "df_config = {\n",
    "    'entity_id':'data',\n",
    "    'index':'C_APP_ID',\n",
    "    'variable_types':{\n",
    "        **{col:ft.variable_types.Categorical for col in cat_features},\n",
    "        **{col:ft.variable_types.Numeric for col in features if col not in cat_features}\n",
    "    },\n",
    "    'make_index':False,\n",
    "    'time_index':None\n",
    "}\n",
    "\n",
    "es_train = es_train.entity_from_dataframe(dataframe = train,**df_config)\n",
    "es_data = es_data.entity_from_dataframe(dataframe = dt,**df_config)"
   ]
  },
  {
   "cell_type": "code",
   "execution_count": 170,
   "metadata": {},
   "outputs": [],
   "source": [
    "# # Running DFS\n",
    "import re\n",
    "# # 计算基元\n",
    "trans_primitives = ['divide_numeric']\n",
    "\n",
    "ignore_str = \"\"\"比例|score|days|识别|天数|评分|风险识别|SCORE|GENDER|\n",
    "AGE|td\\.zrf|标准差|环比|len|时长|列表|间隔|addr_cnt|手机号数|设备号的个数|其他|N_AGE|事件中的记录条数|\n",
    "贷款事件中发生在白天的次数|P2P\"\"\"\n",
    "\n",
    "ignore_variables = [col for col in dt.columns if col not in features or bool(re.search(ignore_str,col))]\n",
    "# # matrix_dfs,\n",
    "features_dfs = ft.dfs(entityset=es_train,\n",
    "                                    target_entity='data',\n",
    "                                    ignore_variables = {'data':ignore_variables},\n",
    "                                    trans_primitives=trans_primitives,\n",
    "                                    max_depth=2,\n",
    "                                    n_jobs= -1,\n",
    "                                    verbose=False,\n",
    "                                    features_only=True)"
   ]
  },
  {
   "cell_type": "code",
   "execution_count": 169,
   "metadata": {},
   "outputs": [],
   "source": [
    "# set(dt.columns) - set(ignore_variables)"
   ]
  },
  {
   "cell_type": "code",
   "execution_count": 171,
   "metadata": {},
   "outputs": [
    {
     "data": {
      "text/plain": [
       "6724"
      ]
     },
     "execution_count": 171,
     "metadata": {},
     "output_type": "execute_result"
    }
   ],
   "source": [
    "len(features_dfs)"
   ]
  },
  {
   "cell_type": "code",
   "execution_count": 172,
   "metadata": {},
   "outputs": [
    {
     "data": {
      "text/plain": [
       "[<Feature: zzc.D90.身份证号码.总申请数 / td.dqsh.身份证关联到的7天内全行业下贷款事件中的不同平台个数>,\n",
       " <Feature: zzc.D90.身份证号码.总申请数 / td.dqsh.身份证关联到的90天内全行业下贷款事件中的不同平台个数>,\n",
       " <Feature: zzc.D90.身份证号码.总申请数 / zzc.D180.身份证号码.银行类.申请数>,\n",
       " <Feature: zzc.D90.身份证号码.总申请数 / zzc.D30.手机号码.总申请数>,\n",
       " <Feature: zzc.D90.身份证号码.总申请数 / zzc.D360.身份证号码.总申请机构数>,\n",
       " <Feature: zzc.D90.身份证号码.总申请数 / zzc.D360.身份证号码.非银行持牌类.申请数>,\n",
       " <Feature: zzc.D90.身份证号码.总申请数 / zzc.D360.身份证号码.非银行持牌类.申请机构数>,\n",
       " <Feature: zzc.D90.身份证号码.总申请数 / zzc.D540.身份证号码.总申请数>,\n",
       " <Feature: zzc.D90.身份证号码.总申请数 / zzc.D720.手机号码.非银行持牌类.申请数>,\n",
       " <Feature: zzc.D90.身份证号码.总申请数 / zzc.D720.身份证号码.银行类.申请数>]"
      ]
     },
     "execution_count": 172,
     "metadata": {},
     "output_type": "execute_result"
    }
   ],
   "source": [
    "features_dfs[-10:]"
   ]
  },
  {
   "cell_type": "code",
   "execution_count": 173,
   "metadata": {},
   "outputs": [
    {
     "name": "stdout",
     "output_type": "stream",
     "text": [
      "(14910, 6724)\n"
     ]
    },
    {
     "data": {
      "text/html": [
       "<div>\n",
       "<style scoped>\n",
       "    .dataframe tbody tr th:only-of-type {\n",
       "        vertical-align: middle;\n",
       "    }\n",
       "\n",
       "    .dataframe tbody tr th {\n",
       "        vertical-align: top;\n",
       "    }\n",
       "\n",
       "    .dataframe thead th {\n",
       "        text-align: right;\n",
       "    }\n",
       "</style>\n",
       "<table border=\"1\" class=\"dataframe\">\n",
       "  <thead>\n",
       "    <tr style=\"text-align: right;\">\n",
       "      <th></th>\n",
       "      <th>zzc.D360.身份证号码.总申请机构数</th>\n",
       "      <th>br.按手机号查询，近3个月申请线上小额现金贷的机构数</th>\n",
       "      <th>br.按手机号查询，近3个月在非银机构-现金类分期机构申请次数</th>\n",
       "      <th>br.按身份证号查询，近6个月在非银机构有申请记录月份数</th>\n",
       "      <th>br.按手机号查询，近12个月有申请记录月份数</th>\n",
       "      <th>br.按身份证号查询，近3个月最小月申请次数</th>\n",
       "      <th>br.按身份证号查询，近3个月申请线下现金分期的次数</th>\n",
       "      <th>br.按手机号查询，近15天在非银机构申请次数</th>\n",
       "      <th>br.按手机号查询，近6个月申请线上小额现金贷的机构数</th>\n",
       "      <th>br.按手机号查询，近12个月申请线下消费分期的次数</th>\n",
       "      <th>...</th>\n",
       "      <th>zzc.D90.身份证号码.总申请数 / td.dqsh.身份证关联到的7天内全行业下贷款事件中的不同平台个数</th>\n",
       "      <th>zzc.D90.身份证号码.总申请数 / td.dqsh.身份证关联到的90天内全行业下贷款事件中的不同平台个数</th>\n",
       "      <th>zzc.D90.身份证号码.总申请数 / zzc.D180.身份证号码.银行类.申请数</th>\n",
       "      <th>zzc.D90.身份证号码.总申请数 / zzc.D30.手机号码.总申请数</th>\n",
       "      <th>zzc.D90.身份证号码.总申请数 / zzc.D360.身份证号码.总申请机构数</th>\n",
       "      <th>zzc.D90.身份证号码.总申请数 / zzc.D360.身份证号码.非银行持牌类.申请数</th>\n",
       "      <th>zzc.D90.身份证号码.总申请数 / zzc.D360.身份证号码.非银行持牌类.申请机构数</th>\n",
       "      <th>zzc.D90.身份证号码.总申请数 / zzc.D540.身份证号码.总申请数</th>\n",
       "      <th>zzc.D90.身份证号码.总申请数 / zzc.D720.手机号码.非银行持牌类.申请数</th>\n",
       "      <th>zzc.D90.身份证号码.总申请数 / zzc.D720.身份证号码.银行类.申请数</th>\n",
       "    </tr>\n",
       "    <tr>\n",
       "      <th>C_APP_ID</th>\n",
       "      <th></th>\n",
       "      <th></th>\n",
       "      <th></th>\n",
       "      <th></th>\n",
       "      <th></th>\n",
       "      <th></th>\n",
       "      <th></th>\n",
       "      <th></th>\n",
       "      <th></th>\n",
       "      <th></th>\n",
       "      <th></th>\n",
       "      <th></th>\n",
       "      <th></th>\n",
       "      <th></th>\n",
       "      <th></th>\n",
       "      <th></th>\n",
       "      <th></th>\n",
       "      <th></th>\n",
       "      <th></th>\n",
       "      <th></th>\n",
       "      <th></th>\n",
       "    </tr>\n",
       "  </thead>\n",
       "  <tbody>\n",
       "    <tr>\n",
       "      <th>2489550556200978</th>\n",
       "      <td>1.0</td>\n",
       "      <td>1.0</td>\n",
       "      <td>NaN</td>\n",
       "      <td>1.0</td>\n",
       "      <td>7.0</td>\n",
       "      <td>1.0</td>\n",
       "      <td>NaN</td>\n",
       "      <td>NaN</td>\n",
       "      <td>1.0</td>\n",
       "      <td>NaN</td>\n",
       "      <td>...</td>\n",
       "      <td>inf</td>\n",
       "      <td>0.500000</td>\n",
       "      <td>inf</td>\n",
       "      <td>inf</td>\n",
       "      <td>1.000000</td>\n",
       "      <td>0.333333</td>\n",
       "      <td>1.0</td>\n",
       "      <td>0.250000</td>\n",
       "      <td>1.000000</td>\n",
       "      <td>inf</td>\n",
       "    </tr>\n",
       "    <tr>\n",
       "      <th>2449715434889277</th>\n",
       "      <td>5.0</td>\n",
       "      <td>2.0</td>\n",
       "      <td>1.0</td>\n",
       "      <td>5.0</td>\n",
       "      <td>7.0</td>\n",
       "      <td>2.0</td>\n",
       "      <td>NaN</td>\n",
       "      <td>2.0</td>\n",
       "      <td>2.0</td>\n",
       "      <td>1.0</td>\n",
       "      <td>...</td>\n",
       "      <td>4.0</td>\n",
       "      <td>0.444444</td>\n",
       "      <td>4.00</td>\n",
       "      <td>4.0</td>\n",
       "      <td>0.800000</td>\n",
       "      <td>1.333333</td>\n",
       "      <td>2.0</td>\n",
       "      <td>0.666667</td>\n",
       "      <td>4.000000</td>\n",
       "      <td>4.000</td>\n",
       "    </tr>\n",
       "    <tr>\n",
       "      <th>2447558749061142</th>\n",
       "      <td>17.0</td>\n",
       "      <td>2.0</td>\n",
       "      <td>NaN</td>\n",
       "      <td>6.0</td>\n",
       "      <td>12.0</td>\n",
       "      <td>5.0</td>\n",
       "      <td>2.0</td>\n",
       "      <td>2.0</td>\n",
       "      <td>5.0</td>\n",
       "      <td>16.0</td>\n",
       "      <td>...</td>\n",
       "      <td>7.0</td>\n",
       "      <td>0.500000</td>\n",
       "      <td>1.75</td>\n",
       "      <td>7.0</td>\n",
       "      <td>0.411765</td>\n",
       "      <td>1.166667</td>\n",
       "      <td>1.4</td>\n",
       "      <td>0.170732</td>\n",
       "      <td>1.166667</td>\n",
       "      <td>0.875</td>\n",
       "    </tr>\n",
       "    <tr>\n",
       "      <th>2461193055502372</th>\n",
       "      <td>4.0</td>\n",
       "      <td>1.0</td>\n",
       "      <td>NaN</td>\n",
       "      <td>3.0</td>\n",
       "      <td>5.0</td>\n",
       "      <td>0.0</td>\n",
       "      <td>1.0</td>\n",
       "      <td>3.0</td>\n",
       "      <td>1.0</td>\n",
       "      <td>5.0</td>\n",
       "      <td>...</td>\n",
       "      <td>0.0</td>\n",
       "      <td>0.000000</td>\n",
       "      <td>NaN</td>\n",
       "      <td>NaN</td>\n",
       "      <td>0.000000</td>\n",
       "      <td>0.000000</td>\n",
       "      <td>0.0</td>\n",
       "      <td>0.000000</td>\n",
       "      <td>0.000000</td>\n",
       "      <td>NaN</td>\n",
       "    </tr>\n",
       "    <tr>\n",
       "      <th>2416005800747022</th>\n",
       "      <td>0.0</td>\n",
       "      <td>1.0</td>\n",
       "      <td>NaN</td>\n",
       "      <td>3.0</td>\n",
       "      <td>7.0</td>\n",
       "      <td>0.0</td>\n",
       "      <td>NaN</td>\n",
       "      <td>NaN</td>\n",
       "      <td>1.0</td>\n",
       "      <td>NaN</td>\n",
       "      <td>...</td>\n",
       "      <td>NaN</td>\n",
       "      <td>0.000000</td>\n",
       "      <td>NaN</td>\n",
       "      <td>NaN</td>\n",
       "      <td>NaN</td>\n",
       "      <td>NaN</td>\n",
       "      <td>NaN</td>\n",
       "      <td>NaN</td>\n",
       "      <td>0.000000</td>\n",
       "      <td>NaN</td>\n",
       "    </tr>\n",
       "  </tbody>\n",
       "</table>\n",
       "<p>5 rows × 6724 columns</p>\n",
       "</div>"
      ],
      "text/plain": [
       "                  zzc.D360.身份证号码.总申请机构数  br.按手机号查询，近3个月申请线上小额现金贷的机构数  \\\n",
       "C_APP_ID                                                               \n",
       "2489550556200978                    1.0                          1.0   \n",
       "2449715434889277                    5.0                          2.0   \n",
       "2447558749061142                   17.0                          2.0   \n",
       "2461193055502372                    4.0                          1.0   \n",
       "2416005800747022                    0.0                          1.0   \n",
       "\n",
       "                  br.按手机号查询，近3个月在非银机构-现金类分期机构申请次数  \\\n",
       "C_APP_ID                                            \n",
       "2489550556200978                              NaN   \n",
       "2449715434889277                              1.0   \n",
       "2447558749061142                              NaN   \n",
       "2461193055502372                              NaN   \n",
       "2416005800747022                              NaN   \n",
       "\n",
       "                  br.按身份证号查询，近6个月在非银机构有申请记录月份数  br.按手机号查询，近12个月有申请记录月份数  \\\n",
       "C_APP_ID                                                                  \n",
       "2489550556200978                           1.0                      7.0   \n",
       "2449715434889277                           5.0                      7.0   \n",
       "2447558749061142                           6.0                     12.0   \n",
       "2461193055502372                           3.0                      5.0   \n",
       "2416005800747022                           3.0                      7.0   \n",
       "\n",
       "                  br.按身份证号查询，近3个月最小月申请次数  br.按身份证号查询，近3个月申请线下现金分期的次数  \\\n",
       "C_APP_ID                                                               \n",
       "2489550556200978                     1.0                         NaN   \n",
       "2449715434889277                     2.0                         NaN   \n",
       "2447558749061142                     5.0                         2.0   \n",
       "2461193055502372                     0.0                         1.0   \n",
       "2416005800747022                     0.0                         NaN   \n",
       "\n",
       "                  br.按手机号查询，近15天在非银机构申请次数  br.按手机号查询，近6个月申请线上小额现金贷的机构数  \\\n",
       "C_APP_ID                                                                 \n",
       "2489550556200978                      NaN                          1.0   \n",
       "2449715434889277                      2.0                          2.0   \n",
       "2447558749061142                      2.0                          5.0   \n",
       "2461193055502372                      3.0                          1.0   \n",
       "2416005800747022                      NaN                          1.0   \n",
       "\n",
       "                  br.按手机号查询，近12个月申请线下消费分期的次数  ...  \\\n",
       "C_APP_ID                                      ...   \n",
       "2489550556200978                         NaN  ...   \n",
       "2449715434889277                         1.0  ...   \n",
       "2447558749061142                        16.0  ...   \n",
       "2461193055502372                         5.0  ...   \n",
       "2416005800747022                         NaN  ...   \n",
       "\n",
       "                  zzc.D90.身份证号码.总申请数 / td.dqsh.身份证关联到的7天内全行业下贷款事件中的不同平台个数  \\\n",
       "C_APP_ID                                                                    \n",
       "2489550556200978                                                inf         \n",
       "2449715434889277                                                4.0         \n",
       "2447558749061142                                                7.0         \n",
       "2461193055502372                                                0.0         \n",
       "2416005800747022                                                NaN         \n",
       "\n",
       "                  zzc.D90.身份证号码.总申请数 / td.dqsh.身份证关联到的90天内全行业下贷款事件中的不同平台个数  \\\n",
       "C_APP_ID                                                                     \n",
       "2489550556200978                                           0.500000          \n",
       "2449715434889277                                           0.444444          \n",
       "2447558749061142                                           0.500000          \n",
       "2461193055502372                                           0.000000          \n",
       "2416005800747022                                           0.000000          \n",
       "\n",
       "                  zzc.D90.身份证号码.总申请数 / zzc.D180.身份证号码.银行类.申请数  \\\n",
       "C_APP_ID                                                        \n",
       "2489550556200978                                          inf   \n",
       "2449715434889277                                         4.00   \n",
       "2447558749061142                                         1.75   \n",
       "2461193055502372                                          NaN   \n",
       "2416005800747022                                          NaN   \n",
       "\n",
       "                  zzc.D90.身份证号码.总申请数 / zzc.D30.手机号码.总申请数  \\\n",
       "C_APP_ID                                                   \n",
       "2489550556200978                                     inf   \n",
       "2449715434889277                                     4.0   \n",
       "2447558749061142                                     7.0   \n",
       "2461193055502372                                     NaN   \n",
       "2416005800747022                                     NaN   \n",
       "\n",
       "                  zzc.D90.身份证号码.总申请数 / zzc.D360.身份证号码.总申请机构数  \\\n",
       "C_APP_ID                                                       \n",
       "2489550556200978                                    1.000000   \n",
       "2449715434889277                                    0.800000   \n",
       "2447558749061142                                    0.411765   \n",
       "2461193055502372                                    0.000000   \n",
       "2416005800747022                                         NaN   \n",
       "\n",
       "                  zzc.D90.身份证号码.总申请数 / zzc.D360.身份证号码.非银行持牌类.申请数  \\\n",
       "C_APP_ID                                                           \n",
       "2489550556200978                                        0.333333   \n",
       "2449715434889277                                        1.333333   \n",
       "2447558749061142                                        1.166667   \n",
       "2461193055502372                                        0.000000   \n",
       "2416005800747022                                             NaN   \n",
       "\n",
       "                  zzc.D90.身份证号码.总申请数 / zzc.D360.身份证号码.非银行持牌类.申请机构数  \\\n",
       "C_APP_ID                                                             \n",
       "2489550556200978                                               1.0   \n",
       "2449715434889277                                               2.0   \n",
       "2447558749061142                                               1.4   \n",
       "2461193055502372                                               0.0   \n",
       "2416005800747022                                               NaN   \n",
       "\n",
       "                  zzc.D90.身份证号码.总申请数 / zzc.D540.身份证号码.总申请数  \\\n",
       "C_APP_ID                                                     \n",
       "2489550556200978                                  0.250000   \n",
       "2449715434889277                                  0.666667   \n",
       "2447558749061142                                  0.170732   \n",
       "2461193055502372                                  0.000000   \n",
       "2416005800747022                                       NaN   \n",
       "\n",
       "                  zzc.D90.身份证号码.总申请数 / zzc.D720.手机号码.非银行持牌类.申请数  \\\n",
       "C_APP_ID                                                          \n",
       "2489550556200978                                       1.000000   \n",
       "2449715434889277                                       4.000000   \n",
       "2447558749061142                                       1.166667   \n",
       "2461193055502372                                       0.000000   \n",
       "2416005800747022                                       0.000000   \n",
       "\n",
       "                  zzc.D90.身份证号码.总申请数 / zzc.D720.身份证号码.银行类.申请数  \n",
       "C_APP_ID                                                       \n",
       "2489550556200978                                          inf  \n",
       "2449715434889277                                        4.000  \n",
       "2447558749061142                                        0.875  \n",
       "2461193055502372                                          NaN  \n",
       "2416005800747022                                          NaN  \n",
       "\n",
       "[5 rows x 6724 columns]"
      ]
     },
     "execution_count": 173,
     "metadata": {},
     "output_type": "execute_result"
    }
   ],
   "source": [
    "matrix_dfs = ft.calculate_feature_matrix(features_dfs, es_data)\n",
    "print(matrix_dfs.shape)\n",
    "matrix_dfs.sample(5)"
   ]
  },
  {
   "cell_type": "code",
   "execution_count": 174,
   "metadata": {},
   "outputs": [
    {
     "name": "stdout",
     "output_type": "stream",
     "text": [
      "(14910, 6725)\n"
     ]
    },
    {
     "data": {
      "text/html": [
       "<div>\n",
       "<style scoped>\n",
       "    .dataframe tbody tr th:only-of-type {\n",
       "        vertical-align: middle;\n",
       "    }\n",
       "\n",
       "    .dataframe tbody tr th {\n",
       "        vertical-align: top;\n",
       "    }\n",
       "\n",
       "    .dataframe thead th {\n",
       "        text-align: right;\n",
       "    }\n",
       "</style>\n",
       "<table border=\"1\" class=\"dataframe\">\n",
       "  <thead>\n",
       "    <tr style=\"text-align: right;\">\n",
       "      <th></th>\n",
       "      <th>C_APP_ID</th>\n",
       "      <th>zzc.D360.身份证号码.总申请机构数</th>\n",
       "      <th>br.按手机号查询，近3个月申请线上小额现金贷的机构数</th>\n",
       "      <th>br.按手机号查询，近3个月在非银机构-现金类分期机构申请次数</th>\n",
       "      <th>br.按身份证号查询，近6个月在非银机构有申请记录月份数</th>\n",
       "      <th>br.按手机号查询，近12个月有申请记录月份数</th>\n",
       "      <th>br.按身份证号查询，近3个月最小月申请次数</th>\n",
       "      <th>br.按身份证号查询，近3个月申请线下现金分期的次数</th>\n",
       "      <th>br.按手机号查询，近15天在非银机构申请次数</th>\n",
       "      <th>br.按手机号查询，近6个月申请线上小额现金贷的机构数</th>\n",
       "      <th>...</th>\n",
       "      <th>zzc.D90.身份证号码.总申请数 / td.dqsh.身份证关联到的7天内全行业下贷款事件中的不同平台个数</th>\n",
       "      <th>zzc.D90.身份证号码.总申请数 / td.dqsh.身份证关联到的90天内全行业下贷款事件中的不同平台个数</th>\n",
       "      <th>zzc.D90.身份证号码.总申请数 / zzc.D180.身份证号码.银行类.申请数</th>\n",
       "      <th>zzc.D90.身份证号码.总申请数 / zzc.D30.手机号码.总申请数</th>\n",
       "      <th>zzc.D90.身份证号码.总申请数 / zzc.D360.身份证号码.总申请机构数</th>\n",
       "      <th>zzc.D90.身份证号码.总申请数 / zzc.D360.身份证号码.非银行持牌类.申请数</th>\n",
       "      <th>zzc.D90.身份证号码.总申请数 / zzc.D360.身份证号码.非银行持牌类.申请机构数</th>\n",
       "      <th>zzc.D90.身份证号码.总申请数 / zzc.D540.身份证号码.总申请数</th>\n",
       "      <th>zzc.D90.身份证号码.总申请数 / zzc.D720.手机号码.非银行持牌类.申请数</th>\n",
       "      <th>zzc.D90.身份证号码.总申请数 / zzc.D720.身份证号码.银行类.申请数</th>\n",
       "    </tr>\n",
       "  </thead>\n",
       "  <tbody>\n",
       "    <tr>\n",
       "      <th>250</th>\n",
       "      <td>2473968651091972</td>\n",
       "      <td>12.0</td>\n",
       "      <td>5.0</td>\n",
       "      <td>NaN</td>\n",
       "      <td>6.0</td>\n",
       "      <td>12.0</td>\n",
       "      <td>7.0</td>\n",
       "      <td>3.0</td>\n",
       "      <td>2.0</td>\n",
       "      <td>6.0</td>\n",
       "      <td>...</td>\n",
       "      <td>inf</td>\n",
       "      <td>0.388889</td>\n",
       "      <td>7.0</td>\n",
       "      <td>inf</td>\n",
       "      <td>0.583333</td>\n",
       "      <td>7.0</td>\n",
       "      <td>7.0</td>\n",
       "      <td>0.304348</td>\n",
       "      <td>1.4</td>\n",
       "      <td>3.5</td>\n",
       "    </tr>\n",
       "    <tr>\n",
       "      <th>8394</th>\n",
       "      <td>2462647600660544</td>\n",
       "      <td>5.0</td>\n",
       "      <td>1.0</td>\n",
       "      <td>NaN</td>\n",
       "      <td>2.0</td>\n",
       "      <td>8.0</td>\n",
       "      <td>0.0</td>\n",
       "      <td>NaN</td>\n",
       "      <td>NaN</td>\n",
       "      <td>1.0</td>\n",
       "      <td>...</td>\n",
       "      <td>NaN</td>\n",
       "      <td>0.000000</td>\n",
       "      <td>NaN</td>\n",
       "      <td>NaN</td>\n",
       "      <td>0.000000</td>\n",
       "      <td>0.0</td>\n",
       "      <td>0.0</td>\n",
       "      <td>0.000000</td>\n",
       "      <td>0.0</td>\n",
       "      <td>NaN</td>\n",
       "    </tr>\n",
       "  </tbody>\n",
       "</table>\n",
       "<p>2 rows × 6725 columns</p>\n",
       "</div>"
      ],
      "text/plain": [
       "              C_APP_ID  zzc.D360.身份证号码.总申请机构数  br.按手机号查询，近3个月申请线上小额现金贷的机构数  \\\n",
       "250   2473968651091972                   12.0                          5.0   \n",
       "8394  2462647600660544                    5.0                          1.0   \n",
       "\n",
       "      br.按手机号查询，近3个月在非银机构-现金类分期机构申请次数  br.按身份证号查询，近6个月在非银机构有申请记录月份数  \\\n",
       "250                               NaN                           6.0   \n",
       "8394                              NaN                           2.0   \n",
       "\n",
       "      br.按手机号查询，近12个月有申请记录月份数  br.按身份证号查询，近3个月最小月申请次数  \\\n",
       "250                      12.0                     7.0   \n",
       "8394                      8.0                     0.0   \n",
       "\n",
       "      br.按身份证号查询，近3个月申请线下现金分期的次数  br.按手机号查询，近15天在非银机构申请次数  \\\n",
       "250                          3.0                      2.0   \n",
       "8394                         NaN                      NaN   \n",
       "\n",
       "      br.按手机号查询，近6个月申请线上小额现金贷的机构数  ...  \\\n",
       "250                           6.0  ...   \n",
       "8394                          1.0  ...   \n",
       "\n",
       "      zzc.D90.身份证号码.总申请数 / td.dqsh.身份证关联到的7天内全行业下贷款事件中的不同平台个数  \\\n",
       "250                                                 inf         \n",
       "8394                                                NaN         \n",
       "\n",
       "      zzc.D90.身份证号码.总申请数 / td.dqsh.身份证关联到的90天内全行业下贷款事件中的不同平台个数  \\\n",
       "250                                            0.388889          \n",
       "8394                                           0.000000          \n",
       "\n",
       "      zzc.D90.身份证号码.总申请数 / zzc.D180.身份证号码.银行类.申请数  \\\n",
       "250                                           7.0   \n",
       "8394                                          NaN   \n",
       "\n",
       "      zzc.D90.身份证号码.总申请数 / zzc.D30.手机号码.总申请数  \\\n",
       "250                                      inf   \n",
       "8394                                     NaN   \n",
       "\n",
       "      zzc.D90.身份证号码.总申请数 / zzc.D360.身份证号码.总申请机构数  \\\n",
       "250                                     0.583333   \n",
       "8394                                    0.000000   \n",
       "\n",
       "      zzc.D90.身份证号码.总申请数 / zzc.D360.身份证号码.非银行持牌类.申请数  \\\n",
       "250                                              7.0   \n",
       "8394                                             0.0   \n",
       "\n",
       "      zzc.D90.身份证号码.总申请数 / zzc.D360.身份证号码.非银行持牌类.申请机构数  \\\n",
       "250                                                7.0   \n",
       "8394                                               0.0   \n",
       "\n",
       "      zzc.D90.身份证号码.总申请数 / zzc.D540.身份证号码.总申请数  \\\n",
       "250                                   0.304348   \n",
       "8394                                  0.000000   \n",
       "\n",
       "      zzc.D90.身份证号码.总申请数 / zzc.D720.手机号码.非银行持牌类.申请数  \\\n",
       "250                                             1.4   \n",
       "8394                                            0.0   \n",
       "\n",
       "      zzc.D90.身份证号码.总申请数 / zzc.D720.身份证号码.银行类.申请数  \n",
       "250                                           3.5  \n",
       "8394                                          NaN  \n",
       "\n",
       "[2 rows x 6725 columns]"
      ]
     },
     "execution_count": 174,
     "metadata": {},
     "output_type": "execute_result"
    }
   ],
   "source": [
    "matrix_dfs.reset_index(drop=False,inplace=True)\n",
    "print(matrix_dfs.shape)\n",
    "matrix_dfs.sample(2)"
   ]
  },
  {
   "cell_type": "code",
   "execution_count": 175,
   "metadata": {},
   "outputs": [
    {
     "data": {
      "text/html": [
       "<div>\n",
       "<style scoped>\n",
       "    .dataframe tbody tr th:only-of-type {\n",
       "        vertical-align: middle;\n",
       "    }\n",
       "\n",
       "    .dataframe tbody tr th {\n",
       "        vertical-align: top;\n",
       "    }\n",
       "\n",
       "    .dataframe thead th {\n",
       "        text-align: right;\n",
       "    }\n",
       "</style>\n",
       "<table border=\"1\" class=\"dataframe\">\n",
       "  <thead>\n",
       "    <tr style=\"text-align: right;\">\n",
       "      <th></th>\n",
       "      <th>balance_capital</th>\n",
       "      <th>FINANCE_PRODUCT_CODE</th>\n",
       "      <th>name</th>\n",
       "      <th>curr_overdue</th>\n",
       "      <th>id_number</th>\n",
       "      <th>OVERDUE_DAYS</th>\n",
       "      <th>apply_date</th>\n",
       "      <th>max_overdue</th>\n",
       "      <th>LOAN_DATE</th>\n",
       "      <th>target</th>\n",
       "      <th>...</th>\n",
       "      <th>mob.wd_score_v2</th>\n",
       "      <th>td.zrf.小额多期分标准版_</th>\n",
       "      <th>td.zrf.智融分2.0非银分标准版</th>\n",
       "      <th>zzc.D90.身份证号码.贷款类型列表_len</th>\n",
       "      <th>zzc.D720.手机号码.机构类型列表_len</th>\n",
       "      <th>zzc.D90.身份证号码.其他类.申请数</th>\n",
       "      <th>br.ir_allmatch_days</th>\n",
       "      <th>td.zrf.智融分2.0银行分标准版</th>\n",
       "      <th>zzc.D540.手机号码.平均换新机构间隔时长</th>\n",
       "      <th>zzc.D540.身份证号码.贷款类型列表_len</th>\n",
       "    </tr>\n",
       "  </thead>\n",
       "  <tbody>\n",
       "    <tr>\n",
       "      <th>3497</th>\n",
       "      <td>2364.0</td>\n",
       "      <td>PDL02</td>\n",
       "      <td>970ef3e829829157288f1e355f977b47</td>\n",
       "      <td>0.0</td>\n",
       "      <td>e96386d8b379979406013892f16945b8</td>\n",
       "      <td>0</td>\n",
       "      <td>2020-05-05</td>\n",
       "      <td>4.0</td>\n",
       "      <td>2020-05-27</td>\n",
       "      <td>0</td>\n",
       "      <td>...</td>\n",
       "      <td>670</td>\n",
       "      <td>674</td>\n",
       "      <td>601</td>\n",
       "      <td>16</td>\n",
       "      <td>34</td>\n",
       "      <td>0.0</td>\n",
       "      <td>3.0</td>\n",
       "      <td>579</td>\n",
       "      <td>425.0</td>\n",
       "      <td>36</td>\n",
       "    </tr>\n",
       "    <tr>\n",
       "      <th>5507</th>\n",
       "      <td>1234.0</td>\n",
       "      <td>PDL02</td>\n",
       "      <td>7337f864b0ae01edf292aae6095388d0</td>\n",
       "      <td>0.0</td>\n",
       "      <td>e490c82355c2e7fe74af8841b0ee9ac9</td>\n",
       "      <td>2</td>\n",
       "      <td>2020-05-07</td>\n",
       "      <td>1.0</td>\n",
       "      <td>2020-05-07</td>\n",
       "      <td>0</td>\n",
       "      <td>...</td>\n",
       "      <td>765</td>\n",
       "      <td>657</td>\n",
       "      <td>689</td>\n",
       "      <td>19</td>\n",
       "      <td>51</td>\n",
       "      <td>1.0</td>\n",
       "      <td>14.0</td>\n",
       "      <td>568</td>\n",
       "      <td>54.0</td>\n",
       "      <td>47</td>\n",
       "    </tr>\n",
       "  </tbody>\n",
       "</table>\n",
       "<p>2 rows × 88 columns</p>\n",
       "</div>"
      ],
      "text/plain": [
       "      balance_capital FINANCE_PRODUCT_CODE                              name  \\\n",
       "3497           2364.0                PDL02  970ef3e829829157288f1e355f977b47   \n",
       "5507           1234.0                PDL02  7337f864b0ae01edf292aae6095388d0   \n",
       "\n",
       "      curr_overdue                         id_number  OVERDUE_DAYS apply_date  \\\n",
       "3497           0.0  e96386d8b379979406013892f16945b8             0 2020-05-05   \n",
       "5507           0.0  e490c82355c2e7fe74af8841b0ee9ac9             2 2020-05-07   \n",
       "\n",
       "      max_overdue  LOAN_DATE  target  ...  mob.wd_score_v2 td.zrf.小额多期分标准版_  \\\n",
       "3497          4.0 2020-05-27       0  ...              670              674   \n",
       "5507          1.0 2020-05-07       0  ...              765              657   \n",
       "\n",
       "     td.zrf.智融分2.0非银分标准版 zzc.D90.身份证号码.贷款类型列表_len  zzc.D720.手机号码.机构类型列表_len  \\\n",
       "3497                 601                       16                        34   \n",
       "5507                 689                       19                        51   \n",
       "\n",
       "      zzc.D90.身份证号码.其他类.申请数  br.ir_allmatch_days  td.zrf.智融分2.0银行分标准版  \\\n",
       "3497                    0.0                  3.0                  579   \n",
       "5507                    1.0                 14.0                  568   \n",
       "\n",
       "      zzc.D540.手机号码.平均换新机构间隔时长  zzc.D540.身份证号码.贷款类型列表_len  \n",
       "3497                     425.0                         36  \n",
       "5507                      54.0                         47  \n",
       "\n",
       "[2 rows x 88 columns]"
      ]
     },
     "execution_count": 175,
     "metadata": {},
     "output_type": "execute_result"
    }
   ],
   "source": [
    "ignore_dt = copy.deepcopy(dt[ignore_variables])\n",
    "ignore_dt.sample(2)"
   ]
  },
  {
   "cell_type": "code",
   "execution_count": 176,
   "metadata": {},
   "outputs": [
    {
     "name": "stdout",
     "output_type": "stream",
     "text": [
      "C_APP_ID\n"
     ]
    }
   ],
   "source": [
    "for col in ignore_dt.columns:\n",
    "    if col in matrix_dfs.columns:\n",
    "        print(col)"
   ]
  },
  {
   "cell_type": "code",
   "execution_count": 177,
   "metadata": {},
   "outputs": [
    {
     "data": {
      "text/html": [
       "<div>\n",
       "<style scoped>\n",
       "    .dataframe tbody tr th:only-of-type {\n",
       "        vertical-align: middle;\n",
       "    }\n",
       "\n",
       "    .dataframe tbody tr th {\n",
       "        vertical-align: top;\n",
       "    }\n",
       "\n",
       "    .dataframe thead th {\n",
       "        text-align: right;\n",
       "    }\n",
       "</style>\n",
       "<table border=\"1\" class=\"dataframe\">\n",
       "  <thead>\n",
       "    <tr style=\"text-align: right;\">\n",
       "      <th></th>\n",
       "      <th>balance_capital</th>\n",
       "      <th>FINANCE_PRODUCT_CODE</th>\n",
       "      <th>name</th>\n",
       "      <th>curr_overdue</th>\n",
       "      <th>id_number</th>\n",
       "      <th>OVERDUE_DAYS</th>\n",
       "      <th>apply_date</th>\n",
       "      <th>max_overdue</th>\n",
       "      <th>LOAN_DATE</th>\n",
       "      <th>target</th>\n",
       "      <th>...</th>\n",
       "      <th>zzc.D90.身份证号码.总申请数 / td.dqsh.身份证关联到的7天内全行业下贷款事件中的不同平台个数</th>\n",
       "      <th>zzc.D90.身份证号码.总申请数 / td.dqsh.身份证关联到的90天内全行业下贷款事件中的不同平台个数</th>\n",
       "      <th>zzc.D90.身份证号码.总申请数 / zzc.D180.身份证号码.银行类.申请数</th>\n",
       "      <th>zzc.D90.身份证号码.总申请数 / zzc.D30.手机号码.总申请数</th>\n",
       "      <th>zzc.D90.身份证号码.总申请数 / zzc.D360.身份证号码.总申请机构数</th>\n",
       "      <th>zzc.D90.身份证号码.总申请数 / zzc.D360.身份证号码.非银行持牌类.申请数</th>\n",
       "      <th>zzc.D90.身份证号码.总申请数 / zzc.D360.身份证号码.非银行持牌类.申请机构数</th>\n",
       "      <th>zzc.D90.身份证号码.总申请数 / zzc.D540.身份证号码.总申请数</th>\n",
       "      <th>zzc.D90.身份证号码.总申请数 / zzc.D720.手机号码.非银行持牌类.申请数</th>\n",
       "      <th>zzc.D90.身份证号码.总申请数 / zzc.D720.身份证号码.银行类.申请数</th>\n",
       "    </tr>\n",
       "  </thead>\n",
       "  <tbody>\n",
       "    <tr>\n",
       "      <th>0</th>\n",
       "      <td>0.0</td>\n",
       "      <td>PDL02</td>\n",
       "      <td>affb82d901b4220d6d81abf710763c49</td>\n",
       "      <td>0.0</td>\n",
       "      <td>4370ba14897480c70b37a239dc14db52</td>\n",
       "      <td>-10</td>\n",
       "      <td>2020-03-11</td>\n",
       "      <td>0.0</td>\n",
       "      <td>2020-03-11</td>\n",
       "      <td>0</td>\n",
       "      <td>...</td>\n",
       "      <td>1.0</td>\n",
       "      <td>0.090909</td>\n",
       "      <td>inf</td>\n",
       "      <td>inf</td>\n",
       "      <td>1.0</td>\n",
       "      <td>1.0</td>\n",
       "      <td>1.0</td>\n",
       "      <td>1.0</td>\n",
       "      <td>1.0</td>\n",
       "      <td>inf</td>\n",
       "    </tr>\n",
       "    <tr>\n",
       "      <th>1</th>\n",
       "      <td>499.0</td>\n",
       "      <td>PDL02</td>\n",
       "      <td>8b76a1d59368bb1259ceb14903463b23</td>\n",
       "      <td>0.0</td>\n",
       "      <td>711b52b23ebb745e7e806ad619d21cdd</td>\n",
       "      <td>40</td>\n",
       "      <td>2020-03-29</td>\n",
       "      <td>39.0</td>\n",
       "      <td>2020-04-13</td>\n",
       "      <td>1</td>\n",
       "      <td>...</td>\n",
       "      <td>1.0</td>\n",
       "      <td>0.200000</td>\n",
       "      <td>1.0</td>\n",
       "      <td>1.0</td>\n",
       "      <td>0.2</td>\n",
       "      <td>inf</td>\n",
       "      <td>inf</td>\n",
       "      <td>0.2</td>\n",
       "      <td>inf</td>\n",
       "      <td>0.5</td>\n",
       "    </tr>\n",
       "  </tbody>\n",
       "</table>\n",
       "<p>2 rows × 6812 columns</p>\n",
       "</div>"
      ],
      "text/plain": [
       "   balance_capital FINANCE_PRODUCT_CODE                              name  \\\n",
       "0              0.0                PDL02  affb82d901b4220d6d81abf710763c49   \n",
       "1            499.0                PDL02  8b76a1d59368bb1259ceb14903463b23   \n",
       "\n",
       "   curr_overdue                         id_number  OVERDUE_DAYS apply_date  \\\n",
       "0           0.0  4370ba14897480c70b37a239dc14db52           -10 2020-03-11   \n",
       "1           0.0  711b52b23ebb745e7e806ad619d21cdd            40 2020-03-29   \n",
       "\n",
       "   max_overdue  LOAN_DATE  target  ...  \\\n",
       "0          0.0 2020-03-11       0  ...   \n",
       "1         39.0 2020-04-13       1  ...   \n",
       "\n",
       "   zzc.D90.身份证号码.总申请数 / td.dqsh.身份证关联到的7天内全行业下贷款事件中的不同平台个数  \\\n",
       "0                                                1.0         \n",
       "1                                                1.0         \n",
       "\n",
       "  zzc.D90.身份证号码.总申请数 / td.dqsh.身份证关联到的90天内全行业下贷款事件中的不同平台个数  \\\n",
       "0                                           0.090909         \n",
       "1                                           0.200000         \n",
       "\n",
       "  zzc.D90.身份证号码.总申请数 / zzc.D180.身份证号码.银行类.申请数  \\\n",
       "0                                         inf   \n",
       "1                                         1.0   \n",
       "\n",
       "  zzc.D90.身份证号码.总申请数 / zzc.D30.手机号码.总申请数  \\\n",
       "0                                    inf   \n",
       "1                                    1.0   \n",
       "\n",
       "   zzc.D90.身份证号码.总申请数 / zzc.D360.身份证号码.总申请机构数  \\\n",
       "0                                         1.0   \n",
       "1                                         0.2   \n",
       "\n",
       "   zzc.D90.身份证号码.总申请数 / zzc.D360.身份证号码.非银行持牌类.申请数  \\\n",
       "0                                             1.0   \n",
       "1                                             inf   \n",
       "\n",
       "   zzc.D90.身份证号码.总申请数 / zzc.D360.身份证号码.非银行持牌类.申请机构数  \\\n",
       "0                                               1.0   \n",
       "1                                               inf   \n",
       "\n",
       "   zzc.D90.身份证号码.总申请数 / zzc.D540.身份证号码.总申请数  \\\n",
       "0                                       1.0   \n",
       "1                                       0.2   \n",
       "\n",
       "   zzc.D90.身份证号码.总申请数 / zzc.D720.手机号码.非银行持牌类.申请数  \\\n",
       "0                                            1.0   \n",
       "1                                            inf   \n",
       "\n",
       "   zzc.D90.身份证号码.总申请数 / zzc.D720.身份证号码.银行类.申请数  \n",
       "0                                          inf  \n",
       "1                                          0.5  \n",
       "\n",
       "[2 rows x 6812 columns]"
      ]
     },
     "execution_count": 177,
     "metadata": {},
     "output_type": "execute_result"
    }
   ],
   "source": [
    "matrix_dfs_new = pd.merge(ignore_dt,matrix_dfs,on='C_APP_ID')\n",
    "matrix_dfs_new.head(2)"
   ]
  },
  {
   "cell_type": "code",
   "execution_count": 179,
   "metadata": {},
   "outputs": [
    {
     "data": {
      "text/plain": [
       "88"
      ]
     },
     "execution_count": 179,
     "metadata": {},
     "output_type": "execute_result"
    }
   ],
   "source": [
    "len(ignore_variables)"
   ]
  },
  {
   "cell_type": "code",
   "execution_count": 180,
   "metadata": {},
   "outputs": [],
   "source": [
    "label_cols = ['C_APP_ID','APP_CHANNEL','id_number','name','mobile','apply_date','LOAN_DATE','FINANCE_PRODUCT_CODE',\n",
    "             'TENOR','OVERDUE_DAYS','target_m2','target','balance_capital','curr_overdue','max_overdue','f6_max_overdue',\n",
    "             'loan_amt']"
   ]
  },
  {
   "cell_type": "code",
   "execution_count": 188,
   "metadata": {},
   "outputs": [
    {
     "data": {
      "text/plain": [
       "6795"
      ]
     },
     "execution_count": 188,
     "metadata": {},
     "output_type": "execute_result"
    }
   ],
   "source": [
    "features_new = list((set([f.get_name() for f in features_dfs])|set(ignore_variables)) - set(label_cols))\n",
    "for col in features_new:\n",
    "    if col not in matrix_dfs_new.columns:\n",
    "        print(col)\n",
    "len(features_new)"
   ]
  },
  {
   "cell_type": "code",
   "execution_count": 189,
   "metadata": {},
   "outputs": [
    {
     "data": {
      "text/plain": [
       " 0      11480\n",
       " 1       1561\n",
       "-999     1223\n",
       " 2        646\n",
       "Name: target, dtype: int64"
      ]
     },
     "execution_count": 189,
     "metadata": {},
     "output_type": "execute_result"
    }
   ],
   "source": [
    "matrix_dfs_new['target'].value_counts()"
   ]
  },
  {
   "cell_type": "code",
   "execution_count": 190,
   "metadata": {},
   "outputs": [],
   "source": [
    "# 保存dfs_features\n",
    "ft.save_features(features_dfs, f'{dt_file}dfs_features_tmp.json')\n",
    "# 保存数据\n",
    "matrix_dfs_new.to_csv(f'{dt_file}data_dfs_tmp.csv',index=False)"
   ]
  },
  {
   "cell_type": "code",
   "execution_count": 191,
   "metadata": {},
   "outputs": [],
   "source": [
    "# 加载\n",
    "features_dfs = ft.load_features(f'{dt_file}dfs_features_tmp.json')\n",
    "matrix_dfs_new = pd.read_csv(f'{dt_file}data_dfs_tmp.csv')"
   ]
  },
  {
   "cell_type": "code",
   "execution_count": 192,
   "metadata": {},
   "outputs": [
    {
     "data": {
      "text/plain": [
       "(13041, 6812)"
      ]
     },
     "execution_count": 192,
     "metadata": {},
     "output_type": "execute_result"
    }
   ],
   "source": [
    "matrix_dfs_new_1 = matrix_dfs_new.loc[(matrix_dfs_new['target'] != -999)&(matrix_dfs_new['target'] != 2),:]\n",
    "matrix_dfs_new_1.shape"
   ]
  },
  {
   "cell_type": "code",
   "execution_count": 193,
   "metadata": {},
   "outputs": [
    {
     "data": {
      "text/plain": [
       "2466"
      ]
     },
     "execution_count": 193,
     "metadata": {},
     "output_type": "execute_result"
    }
   ],
   "source": [
    "# 删除不同类型交叉变量\n",
    "drop_col = []\n",
    "for f in features_new:\n",
    "    if r'/' in f:\n",
    "        t = f.split(r'/')\n",
    "        if t[0].split(r'.')[0].strip() != t[1].split(r'.')[0].strip():\n",
    "            drop_col.append(f)\n",
    "len(drop_col)"
   ]
  },
  {
   "cell_type": "code",
   "execution_count": 194,
   "metadata": {},
   "outputs": [
    {
     "data": {
      "text/plain": [
       "4329"
      ]
     },
     "execution_count": 194,
     "metadata": {},
     "output_type": "execute_result"
    }
   ],
   "source": [
    "features_new = list(set(features_new)-set(drop_col))\n",
    "len(features_new)"
   ]
  },
  {
   "cell_type": "code",
   "execution_count": 196,
   "metadata": {},
   "outputs": [
    {
     "name": "stdout",
     "output_type": "stream",
     "text": [
      "0\n",
      "500\n",
      "1000\n",
      "1500\n",
      "2000\n",
      "2500\n",
      "3000\n",
      "3500\n",
      "4000\n"
     ]
    }
   ],
   "source": [
    "IV_dict = {}\n",
    "for i,col in enumerate(features_new):\n",
    "    if i%500==0:\n",
    "        print(i)\n",
    "    IV_dict[col] = get_IV(matrix_dfs_new_1[col],matrix_dfs_new_1['target'])"
   ]
  },
  {
   "cell_type": "code",
   "execution_count": 197,
   "metadata": {},
   "outputs": [
    {
     "data": {
      "text/plain": [
       "555"
      ]
     },
     "execution_count": 197,
     "metadata": {},
     "output_type": "execute_result"
    }
   ],
   "source": [
    "features_new = [f for f in features_new if IV_dict[f] >= 0.02]\n",
    "len(features_new)"
   ]
  },
  {
   "cell_type": "code",
   "execution_count": 198,
   "metadata": {},
   "outputs": [
    {
     "data": {
      "text/plain": [
       "139"
      ]
     },
     "execution_count": 198,
     "metadata": {},
     "output_type": "execute_result"
    }
   ],
   "source": [
    "f_tmp_list = copy.deepcopy(features_new)\n",
    "for f in f_tmp_list:\n",
    "    if '/' in f:\n",
    "        if (IV_dict[f] <= IV_dict[f.split('/')[0].strip()]+0.01) \\\n",
    "           or (IV_dict[f] <= IV_dict[f.split('/')[1].strip()]+0.01):\n",
    "            try:\n",
    "                features_new.remove(f)\n",
    "            except:\n",
    "                print(f)\n",
    "len(features_new)"
   ]
  },
  {
   "cell_type": "code",
   "execution_count": 199,
   "metadata": {},
   "outputs": [
    {
     "data": {
      "text/plain": [
       "['./result/dfs/feature_dfs_iv.pkl']"
      ]
     },
     "execution_count": 199,
     "metadata": {},
     "output_type": "execute_result"
    }
   ],
   "source": [
    "# 保存IV\n",
    "import joblib\n",
    "joblib.dump({k:v for k,v in IV_dict.items() if v >= 0.02},'./result/dfs/feature_dfs_iv.pkl')"
   ]
  },
  {
   "cell_type": "code",
   "execution_count": 200,
   "metadata": {},
   "outputs": [
    {
     "data": {
      "text/plain": [
       "136"
      ]
     },
     "execution_count": 200,
     "metadata": {},
     "output_type": "execute_result"
    }
   ],
   "source": [
    "na = NanDeal(df=matrix_dfs_new_1,cols=features_new)\n",
    "missCount = na.miss_count\n",
    "features_new = [f for f in features_new if missCount[f] < 0.6]\n",
    "len(features_new)"
   ]
  },
  {
   "cell_type": "code",
   "execution_count": 201,
   "metadata": {},
   "outputs": [
    {
     "data": {
      "text/plain": [
       "128"
      ]
     },
     "execution_count": 201,
     "metadata": {},
     "output_type": "execute_result"
    }
   ],
   "source": [
    "f_tmp_list = copy.deepcopy(features_new)\n",
    "drop_cols = []\n",
    "for f in f_tmp_list:\n",
    "    if '/' in f:\n",
    "        try:\n",
    "            if (missCount[f] >= missCount[f.split('/')[0].strip()]) \\\n",
    "            or (missCount[f] >= missCount[f.split('/')[1].strip()]):\n",
    "                drop_cols.append(f)\n",
    "        except KeyError:\n",
    "            pass\n",
    "features_new = list(set(features_new)-set(drop_cols))\n",
    "len(features_new)"
   ]
  },
  {
   "cell_type": "code",
   "execution_count": 215,
   "metadata": {},
   "outputs": [
    {
     "data": {
      "text/plain": [
       "{'br.按手机号查询，近15天在非银机构申请次数': 0.20128824476650564,\n",
       " 'br.按手机号查询，近3个月在非银机构-持牌网络小贷机构申请机构数': 0.2221455409861207,\n",
       " 'td.dqsh.身份证关联到的270天内非银行类金融行业下申贷事件中近90日的新增平台数': 0.20933977455716588}"
      ]
     },
     "execution_count": 215,
     "metadata": {},
     "output_type": "execute_result"
    }
   ],
   "source": [
    "md = ModeDeal(df = matrix_dfs_new_1, cols = features_new)\n",
    "modeCount = md.mode_values\n",
    "features_new = [f for f in features_new if modeCount[f] < 0.6]\n",
    "len(features_new)"
   ]
  },
  {
   "cell_type": "code",
   "execution_count": 203,
   "metadata": {},
   "outputs": [
    {
     "data": {
      "text/plain": [
       "128"
      ]
     },
     "execution_count": 203,
     "metadata": {},
     "output_type": "execute_result"
    }
   ],
   "source": [
    "f_tmp_list = copy.deepcopy(features_new)\n",
    "drop_cols = []\n",
    "for f in f_tmp_list:\n",
    "    if '/' in f:\n",
    "        try:\n",
    "            if (modeCount[f] >= modeCount[f.split('/')[0].strip()]) \\\n",
    "            or (modeCount[f] >= modeCount[f.split('/')[1].strip()]):\n",
    "                drop_cols.append(f)\n",
    "        except KeyError:\n",
    "            pass\n",
    "features_new = list(set(features_new)-set(drop_cols))\n",
    "len(features_new)"
   ]
  },
  {
   "cell_type": "code",
   "execution_count": 143,
   "metadata": {},
   "outputs": [],
   "source": [
    "# 特征选择\n",
    "# import toad\n",
    "# matrix_dfs_new_1, drop_cols = toad.selection.select(frame = matrix_dfs_new_1,\n",
    "#                                                   target = matrix_dfs_new_1['target'],\n",
    "#                                                 empty=0.6,\n",
    "#                                                 iv=0.02,\n",
    "#                                                 corr=0.7,\n",
    "#                                                 return_drop=True,\n",
    "#                                                 exclude = label_cols)\n",
    "# print(matrix_dfs_new_1.shape)\n",
    "# matrix_dfs_new_1.sample(4)"
   ]
  },
  {
   "cell_type": "code",
   "execution_count": 144,
   "metadata": {},
   "outputs": [],
   "source": [
    "# features_new = list(set(features_new)&set(matrix_dfs_new_1.columns))\n",
    "# len(features_new)"
   ]
  },
  {
   "cell_type": "code",
   "execution_count": 204,
   "metadata": {},
   "outputs": [
    {
     "data": {
      "text/plain": [
       "110"
      ]
     },
     "execution_count": 204,
     "metadata": {},
     "output_type": "execute_result"
    }
   ],
   "source": [
    "features_dfs_new = [i for i in features_dfs if i.get_name() in features_new]\n",
    "len(features_dfs_new)"
   ]
  },
  {
   "cell_type": "code",
   "execution_count": 205,
   "metadata": {},
   "outputs": [],
   "source": [
    "# 保存dfs_features,用于部署\n",
    "ft.save_features(features_dfs_new, f'{dt_file}dfs_features.json')"
   ]
  },
  {
   "cell_type": "code",
   "execution_count": 206,
   "metadata": {},
   "outputs": [
    {
     "data": {
      "text/html": [
       "<div>\n",
       "<style scoped>\n",
       "    .dataframe tbody tr th:only-of-type {\n",
       "        vertical-align: middle;\n",
       "    }\n",
       "\n",
       "    .dataframe tbody tr th {\n",
       "        vertical-align: top;\n",
       "    }\n",
       "\n",
       "    .dataframe thead th {\n",
       "        text-align: right;\n",
       "    }\n",
       "</style>\n",
       "<table border=\"1\" class=\"dataframe\">\n",
       "  <thead>\n",
       "    <tr style=\"text-align: right;\">\n",
       "      <th></th>\n",
       "      <th>C_APP_ID</th>\n",
       "      <th>APP_CHANNEL</th>\n",
       "      <th>id_number</th>\n",
       "      <th>name</th>\n",
       "      <th>mobile</th>\n",
       "      <th>apply_date</th>\n",
       "      <th>LOAN_DATE</th>\n",
       "      <th>FINANCE_PRODUCT_CODE</th>\n",
       "      <th>TENOR</th>\n",
       "      <th>OVERDUE_DAYS</th>\n",
       "      <th>...</th>\n",
       "      <th>br.按手机号查询，近12个月申请线下消费分期的次数 / br.按身份证号查询，近6个月在非银机构申请机构数</th>\n",
       "      <th>br.按身份证号查询，近3个月在非银机构申请最大间隔天数</th>\n",
       "      <th>br.按手机号查询，近12个月申请线上现金分期的次数 / br.按身份证号查询，近3个月在非银机构-持牌消费金融机构申请机构数</th>\n",
       "      <th>br.按手机号查询，近12个月申请线上现金分期的次数 / br.按手机号查询，近1个月在非银机构-持牌网络小贷机构申请机构数</th>\n",
       "      <th>br.按身份证号查询，近3个月在非银机构-消费类分期机构申请次数 / br.按手机号查询，近12个月申请线上现金分期的次数</th>\n",
       "      <th>br.按手机号查询，近12个月申请线上现金分期的次数 / br.按手机号查询，近12个月在非银机构-持牌网络小贷机构申请机构数</th>\n",
       "      <th>br.按手机号查询，近12个月申请线下消费分期的次数 / br.按手机号查询，近12个月在非银机构-持牌消费金融机构申请机构数</th>\n",
       "      <th>br.按身份证号查询，近12个月最大月申请次数</th>\n",
       "      <th>br.按身份证号查询，近3个月申请线上现金分期的次数 / br.按手机号查询，近3个月在非银机构-持牌网络小贷机构申请机构数</th>\n",
       "      <th>br.按身份证号查询，近3个月申请线上小额现金贷的次数 / br.按手机号查询，近12个月申请线下消费分期的次数</th>\n",
       "    </tr>\n",
       "  </thead>\n",
       "  <tbody>\n",
       "    <tr>\n",
       "      <th>3763</th>\n",
       "      <td>2415069744234541</td>\n",
       "      <td>RONGSHU</td>\n",
       "      <td>31eaea0c55d54871a136ab053e5271a9</td>\n",
       "      <td>947e08850ca19f09de1461d11b1d9b2a</td>\n",
       "      <td>8d9fb3ea2ecf8b6f9bfefe6e41fa98a8</td>\n",
       "      <td>2020-03-08</td>\n",
       "      <td>2020-03-08</td>\n",
       "      <td>PDL02</td>\n",
       "      <td>12</td>\n",
       "      <td>5</td>\n",
       "      <td>...</td>\n",
       "      <td>NaN</td>\n",
       "      <td>17.0</td>\n",
       "      <td>3.0</td>\n",
       "      <td>NaN</td>\n",
       "      <td>0.666667</td>\n",
       "      <td>1.500000</td>\n",
       "      <td>NaN</td>\n",
       "      <td>3.0</td>\n",
       "      <td>NaN</td>\n",
       "      <td>NaN</td>\n",
       "    </tr>\n",
       "    <tr>\n",
       "      <th>12355</th>\n",
       "      <td>2471213474644065</td>\n",
       "      <td>PINTAI01</td>\n",
       "      <td>d38df08c4aa1fe4be13e95b50c0fc975</td>\n",
       "      <td>4b4b8f36ace9c33975d898bdb2a845ca</td>\n",
       "      <td>1d82ae48c0942bc16786b02d67261a04</td>\n",
       "      <td>2020-05-26</td>\n",
       "      <td>2020-05-26</td>\n",
       "      <td>PDL02</td>\n",
       "      <td>12</td>\n",
       "      <td>-1</td>\n",
       "      <td>...</td>\n",
       "      <td>0.428571</td>\n",
       "      <td>24.0</td>\n",
       "      <td>20.0</td>\n",
       "      <td>NaN</td>\n",
       "      <td>0.400000</td>\n",
       "      <td>2.857143</td>\n",
       "      <td>0.5</td>\n",
       "      <td>11.0</td>\n",
       "      <td>4.0</td>\n",
       "      <td>1.666667</td>\n",
       "    </tr>\n",
       "  </tbody>\n",
       "</table>\n",
       "<p>2 rows × 145 columns</p>\n",
       "</div>"
      ],
      "text/plain": [
       "               C_APP_ID APP_CHANNEL                         id_number  \\\n",
       "3763   2415069744234541     RONGSHU  31eaea0c55d54871a136ab053e5271a9   \n",
       "12355  2471213474644065    PINTAI01  d38df08c4aa1fe4be13e95b50c0fc975   \n",
       "\n",
       "                                   name                            mobile  \\\n",
       "3763   947e08850ca19f09de1461d11b1d9b2a  8d9fb3ea2ecf8b6f9bfefe6e41fa98a8   \n",
       "12355  4b4b8f36ace9c33975d898bdb2a845ca  1d82ae48c0942bc16786b02d67261a04   \n",
       "\n",
       "       apply_date   LOAN_DATE FINANCE_PRODUCT_CODE  TENOR  OVERDUE_DAYS  ...  \\\n",
       "3763   2020-03-08  2020-03-08                PDL02     12             5  ...   \n",
       "12355  2020-05-26  2020-05-26                PDL02     12            -1  ...   \n",
       "\n",
       "       br.按手机号查询，近12个月申请线下消费分期的次数 / br.按身份证号查询，近6个月在非银机构申请机构数  \\\n",
       "3763                                                 NaN        \n",
       "12355                                           0.428571        \n",
       "\n",
       "       br.按身份证号查询，近3个月在非银机构申请最大间隔天数  \\\n",
       "3763                           17.0   \n",
       "12355                          24.0   \n",
       "\n",
       "       br.按手机号查询，近12个月申请线上现金分期的次数 / br.按身份证号查询，近3个月在非银机构-持牌消费金融机构申请机构数  \\\n",
       "3763                                                 3.0                 \n",
       "12355                                               20.0                 \n",
       "\n",
       "       br.按手机号查询，近12个月申请线上现金分期的次数 / br.按手机号查询，近1个月在非银机构-持牌网络小贷机构申请机构数  \\\n",
       "3763                                                 NaN                \n",
       "12355                                                NaN                \n",
       "\n",
       "       br.按身份证号查询，近3个月在非银机构-消费类分期机构申请次数 / br.按手机号查询，近12个月申请线上现金分期的次数  \\\n",
       "3763                                            0.666667               \n",
       "12355                                           0.400000               \n",
       "\n",
       "       br.按手机号查询，近12个月申请线上现金分期的次数 / br.按手机号查询，近12个月在非银机构-持牌网络小贷机构申请机构数  \\\n",
       "3763                                            1.500000                 \n",
       "12355                                           2.857143                 \n",
       "\n",
       "       br.按手机号查询，近12个月申请线下消费分期的次数 / br.按手机号查询，近12个月在非银机构-持牌消费金融机构申请机构数  \\\n",
       "3763                                                 NaN                 \n",
       "12355                                                0.5                 \n",
       "\n",
       "       br.按身份证号查询，近12个月最大月申请次数  \\\n",
       "3763                       3.0   \n",
       "12355                     11.0   \n",
       "\n",
       "       br.按身份证号查询，近3个月申请线上现金分期的次数 / br.按手机号查询，近3个月在非银机构-持牌网络小贷机构申请机构数  \\\n",
       "3763                                                 NaN                \n",
       "12355                                                4.0                \n",
       "\n",
       "       br.按身份证号查询，近3个月申请线上小额现金贷的次数 / br.按手机号查询，近12个月申请线下消费分期的次数  \n",
       "3763                                                 NaN         \n",
       "12355                                           1.666667         \n",
       "\n",
       "[2 rows x 145 columns]"
      ]
     },
     "execution_count": 206,
     "metadata": {},
     "output_type": "execute_result"
    }
   ],
   "source": [
    "matrix_dfs_new[label_cols+features_new].sample(2)"
   ]
  },
  {
   "cell_type": "code",
   "execution_count": 207,
   "metadata": {},
   "outputs": [],
   "source": [
    "# 保存数据\n",
    "matrix_dfs_new[label_cols+features_new].to_csv(f'{dt_file}data_dfs.csv',index=False)"
   ]
  },
  {
   "cell_type": "code",
   "execution_count": 208,
   "metadata": {},
   "outputs": [],
   "source": [
    "# 保存变量\n",
    "with open(f'{dt_file}features_dfs.txt','w') as f:\n",
    "    f.write('\\n'.join(features_new))"
   ]
  },
  {
   "cell_type": "code",
   "execution_count": 209,
   "metadata": {},
   "outputs": [
    {
     "data": {
      "text/plain": [
       "0.032211361321928256"
      ]
     },
     "execution_count": 209,
     "metadata": {},
     "output_type": "execute_result"
    }
   ],
   "source": [
    "IV_dict[features_new[0]]"
   ]
  },
  {
   "cell_type": "code",
   "execution_count": 210,
   "metadata": {},
   "outputs": [],
   "source": [
    "# 输出衍生变量逻辑图\n",
    "for f in features_dfs_new:\n",
    "    if  '/' in f.get_name():\n",
    "        if IV_dict[f.get_name()] >= 0.03 \\\n",
    "        and IV_dict[f.get_name().split('/')[0].strip()] < IV_dict[f.get_name()] \\\n",
    "        and IV_dict[f.get_name().split('/')[1].strip()] < IV_dict[f.get_name()]:\n",
    "            ft.graph_feature(feature = f,to_file=f'./result/dfs/{f.get_name()}.png',description=True)"
   ]
  },
  {
   "cell_type": "code",
   "execution_count": 152,
   "metadata": {},
   "outputs": [],
   "source": [
    "from collections import Counter\n",
    "class ModeDeal(object):\n",
    "    \"\"\"集中度处理\"\"\"\n",
    "    def __init__(self,df:pd.DataFrame,cols:list=None):\n",
    "        self.df = copy.deepcopy(df)\n",
    "        if not cols:\n",
    "            self.cols = df.columns.tolist()\n",
    "        else:\n",
    "            self.cols = copy.deepcopy(cols)\n",
    "        self.mode_values = self.mode_count()\n",
    "\n",
    "    def mode_count(self):\n",
    "        mode_values = self.df[self.cols].mode(dropna=True).iloc[0].to_dict()\n",
    "        mode_ratio = {k:Counter(self.df[k]).get(v)/len(self.df)\n",
    "                      for k,v in mode_values.items()}\n",
    "        return mode_ratio\n",
    "\n",
    "    def drop_mode(self,keep_cols:list=None,return_drop:bool=True,mode:float=0.8):\n",
    "        if not keep_cols:\n",
    "            keep_cols = []\n",
    "        drop_cols = [k for k in self.cols if self.mode_values.get(k) >= mode and k not in keep_cols]\n",
    "        self.df = self.df[self.df.columns.difference(drop_cols)]\n",
    "        if return_drop:\n",
    "            return self.df, drop_cols\n",
    "        else:\n",
    "            return self.df"
   ]
  },
  {
   "cell_type": "code",
   "execution_count": 153,
   "metadata": {},
   "outputs": [],
   "source": [
    "import copy\n",
    "class NanDeal(object):\n",
    "    \"\"\"缺失处理\"\"\"\n",
    "    def __init__(self, df: pd.DataFrame, cols: list = None):\n",
    "        self.df = copy.deepcopy(df)\n",
    "        if not cols:\n",
    "            self.cols = df.columns.tolist()\n",
    "        else:\n",
    "            self.cols = copy.deepcopy(cols)\n",
    "        self.miss_count = self.nan_count()\n",
    "\n",
    "    def nan_count(self):\n",
    "        result = (self.df[self.cols].isnull().sum() / len(self.df)).to_dict()\n",
    "        return result\n",
    "\n",
    "    def fill_nan(self, spvalue: [str, int, float, dict] = -9999, limit_ratio=0.05):\n",
    "        less_miss = [k for k, v in self.miss_count.items() if v < limit_ratio]\n",
    "        # 缺失较低\n",
    "        for col in less_miss:\n",
    "            self.df[col] = self.df[col].fillna(self.df[col].mode(dropna=True)[0])\n",
    "            if self.df[col].isnull().values.any():\n",
    "                self.df[col] = self.df[col].fillna('nan')\n",
    "        # 指定填充\n",
    "        if isinstance(spvalue, dict):\n",
    "            spvalue = {k: {np.nan: v} for k, v in spvalue.items()}\n",
    "\n",
    "        else:\n",
    "            spvalue = {np.nan: spvalue}\n",
    "\n",
    "        self.df.replace(to_replace=spvalue, inplace=True)\n",
    "\n",
    "        return self.df"
   ]
  },
  {
   "cell_type": "code",
   "execution_count": 195,
   "metadata": {},
   "outputs": [],
   "source": [
    "def get_IV(x:pd.Series, y:pd.Series):\n",
    "    # 计算特征IV\n",
    "    def goodBad(df):\n",
    "        names = {'good': (df['y']==0).sum(),'bad': (df['y']==1).sum()}\n",
    "        return pd.Series(names)\n",
    "    # 对x进行等频分\n",
    "    if len(set(x)) > 20:\n",
    "        q = 10\n",
    "    elif len(set(x)) <= 10:\n",
    "        q = len(set(x)) - 2\n",
    "        if q < 0:\n",
    "            q = 0\n",
    "    else:\n",
    "        q = 4\n",
    "\n",
    "    x = pd.qcut(x=x,q=q,labels=False,duplicates='drop')\n",
    "    iv_total = pd.DataFrame({'x':x,'y':y})\\\n",
    "        .fillna(-99)\\\n",
    "        .groupby('x')\\\n",
    "        .apply(goodBad)\\\n",
    "        .replace(0, 1)\\\n",
    "        .assign(\n",
    "        DistrBad = lambda x: x.bad/sum(x.bad),DistrGood = lambda x: x.good/sum(x.good)\n",
    "    ).\\\n",
    "        assign(iv = lambda x: (x.DistrBad-x.DistrGood)*np.log(x.DistrBad/x.DistrGood))\\\n",
    "        .iv.sum()\n",
    "    # return iv\n",
    "    return iv_total"
   ]
  },
  {
   "cell_type": "code",
   "execution_count": null,
   "metadata": {},
   "outputs": [],
   "source": []
  }
 ],
 "metadata": {
  "kernelspec": {
   "display_name": "venv",
   "language": "python",
   "name": "venv"
  },
  "language_info": {
   "codemirror_mode": {
    "name": "ipython",
    "version": 3
   },
   "file_extension": ".py",
   "mimetype": "text/x-python",
   "name": "python",
   "nbconvert_exporter": "python",
   "pygments_lexer": "ipython3",
   "version": "3.7.4"
  }
 },
 "nbformat": 4,
 "nbformat_minor": 4
}
